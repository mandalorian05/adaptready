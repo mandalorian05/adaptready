{
 "cells": [
  {
   "cell_type": "markdown",
   "id": "9c85bc8c",
   "metadata": {},
   "source": [
    "# 2nd Question"
   ]
  },
  {
   "cell_type": "code",
   "execution_count": 13,
   "id": "f71915bc",
   "metadata": {},
   "outputs": [],
   "source": [
    "def LOLISA(self, nums):\n",
    "        res = 1\n",
    "        temp = 1\n",
    "        prev = nums[0]\n",
    "        for num in nums:\n",
    "            if num > prev:\n",
    "                temp += 1\n",
    "            else:\n",
    "                if temp > res:\n",
    "                    res = temp\n",
    "                temp = 1\n",
    "            prev = num\n",
    "        return max(res, temp) "
   ]
  },
  {
   "cell_type": "markdown",
   "id": "e6ddc4c4",
   "metadata": {},
   "source": [
    "# 3rd Question"
   ]
  },
  {
   "cell_type": "code",
   "execution_count": 17,
   "id": "b3327576",
   "metadata": {},
   "outputs": [],
   "source": [
    "def lN(self, nums):\n",
    "        res=\"\"\n",
    "        for i in nums:\n",
    "            i=str(i)\n",
    "        for i in range(len(nums)):\n",
    "            for j in range(i+1,len(nums)):\n",
    "                if str(nums[i])+str(nums[j]) > str(nums[j])+str(nums[i]):\n",
    "                    continue\n",
    "                else:\n",
    "                    nums[i],nums[j]=nums[j],nums[i]\n",
    "        res=''.join(str(i) for i in nums) \n",
    "        if int(res)==0:\n",
    "            return \"0\"\n",
    "        return res"
   ]
  },
  {
   "cell_type": "markdown",
   "id": "6899e24d",
   "metadata": {},
   "source": [
    "# 4 th question"
   ]
  },
  {
   "cell_type": "code",
   "execution_count": null,
   "id": "1851298e",
   "metadata": {},
   "outputs": [],
   "source": [
    "import json\n",
    "import csv\n",
    "\n",
    "# Load the JSON data\n",
    "json_data = {\n",
    "    \"web-app\": {\n",
    "        \"servlet\": [\n",
    "            {\n",
    "                \"servlet-name\": \"cofaxCDS\",\n",
    "                \"servlet-class\": \"org.cofax.cds.CDSServlet\"\n",
    "            },\n",
    "            {\n",
    "                \"servlet-name\": \"cofaxEmail\",\n",
    "                \"servlet-class\": \"org.cofax.cds.EmailServlet\"\n",
    "            },\n",
    "            {\n",
    "                \"servlet-name\": \"cofaxAdmin\",\n",
    "                \"servlet-class\": \"org.cofax.cds.AdminServlet\"\n",
    "            },\n",
    "            \n",
    "        ],\n",
    "        \n",
    "    }\n",
    "}\n",
    "\n",
    "# Extract servlet data\n",
    "servlets = json_data[\"web-app\"][\"servlet\"]\n",
    "\n",
    "# Write to CSV file\n",
    "csv_filename = \"servlets.csv\"\n",
    "with open(csv_filename, \"w\", newline=\"\") as csvfile:\n",
    "    writer = csv.writer(csvfile)\n",
    "    writer.writerow([\"servlet-name\", \"servlet-class\"])  # Write header\n",
    "    for servlet in servlets:\n",
    "        writer.writerow([servlet[\"servlet-name\"], servlet[\"servlet-class\"]])\n",
    "\n",
    "print(f\"CSV file '{csv_filename}' created successfully!\")"
   ]
  },
  {
   "cell_type": "code",
   "execution_count": 19,
   "id": "687dab7e",
   "metadata": {},
   "outputs": [
    {
     "data": {
      "text/html": [
       "<div>\n",
       "<style scoped>\n",
       "    .dataframe tbody tr th:only-of-type {\n",
       "        vertical-align: middle;\n",
       "    }\n",
       "\n",
       "    .dataframe tbody tr th {\n",
       "        vertical-align: top;\n",
       "    }\n",
       "\n",
       "    .dataframe thead th {\n",
       "        text-align: right;\n",
       "    }\n",
       "</style>\n",
       "<table border=\"1\" class=\"dataframe\">\n",
       "  <thead>\n",
       "    <tr style=\"text-align: right;\">\n",
       "      <th></th>\n",
       "      <th>servlet-name</th>\n",
       "      <th>servlet-class</th>\n",
       "    </tr>\n",
       "  </thead>\n",
       "  <tbody>\n",
       "    <tr>\n",
       "      <th>0</th>\n",
       "      <td>cofaxCDS</td>\n",
       "      <td>org.cofax.cds.CDSServlet</td>\n",
       "    </tr>\n",
       "    <tr>\n",
       "      <th>1</th>\n",
       "      <td>cofaxEmail</td>\n",
       "      <td>org.cofax.cds.EmailServlet</td>\n",
       "    </tr>\n",
       "    <tr>\n",
       "      <th>2</th>\n",
       "      <td>cofaxAdmin</td>\n",
       "      <td>org.cofax.cds.AdminServlet</td>\n",
       "    </tr>\n",
       "  </tbody>\n",
       "</table>\n",
       "</div>"
      ],
      "text/plain": [
       "  servlet-name               servlet-class\n",
       "0     cofaxCDS    org.cofax.cds.CDSServlet\n",
       "1   cofaxEmail  org.cofax.cds.EmailServlet\n",
       "2   cofaxAdmin  org.cofax.cds.AdminServlet"
      ]
     },
     "execution_count": 19,
     "metadata": {},
     "output_type": "execute_result"
    }
   ],
   "source": [
    "pd.read_csv(r'servlets.csv')"
   ]
  },
  {
   "cell_type": "markdown",
   "id": "730428c9",
   "metadata": {},
   "source": [
    "# 1st question"
   ]
  },
  {
   "cell_type": "code",
   "execution_count": 20,
   "id": "235e8e76",
   "metadata": {},
   "outputs": [],
   "source": [
    "import pandas as pd\n",
    "import numpy as np\n",
    "import matplotlib.pyplot as plt\n",
    "\n"
   ]
  },
  {
   "cell_type": "code",
   "execution_count": 21,
   "id": "0b3f2ac1",
   "metadata": {},
   "outputs": [
    {
     "name": "stderr",
     "output_type": "stream",
     "text": [
      "C:\\Users\\ASUS\\AppData\\Local\\Temp\\ipykernel_9164\\435328575.py:1: DtypeWarning: Columns (16) have mixed types. Specify dtype option on import or set low_memory=False.\n",
      "  df = pd.read_csv(r\"D:\\complaints.csv\")\n"
     ]
    }
   ],
   "source": [
    "df = pd.read_csv(r\"D:\\complaints.csv\")"
   ]
  },
  {
   "cell_type": "code",
   "execution_count": 23,
   "id": "715e1dd2",
   "metadata": {},
   "outputs": [
    {
     "data": {
      "text/html": [
       "<div>\n",
       "<style scoped>\n",
       "    .dataframe tbody tr th:only-of-type {\n",
       "        vertical-align: middle;\n",
       "    }\n",
       "\n",
       "    .dataframe tbody tr th {\n",
       "        vertical-align: top;\n",
       "    }\n",
       "\n",
       "    .dataframe thead th {\n",
       "        text-align: right;\n",
       "    }\n",
       "</style>\n",
       "<table border=\"1\" class=\"dataframe\">\n",
       "  <thead>\n",
       "    <tr style=\"text-align: right;\">\n",
       "      <th></th>\n",
       "      <th>Date received</th>\n",
       "      <th>Product</th>\n",
       "      <th>Sub-product</th>\n",
       "      <th>Issue</th>\n",
       "      <th>Sub-issue</th>\n",
       "      <th>Consumer complaint narrative</th>\n",
       "      <th>Company public response</th>\n",
       "      <th>Company</th>\n",
       "      <th>State</th>\n",
       "      <th>ZIP code</th>\n",
       "      <th>Tags</th>\n",
       "      <th>Consumer consent provided?</th>\n",
       "      <th>Submitted via</th>\n",
       "      <th>Date sent to company</th>\n",
       "      <th>Company response to consumer</th>\n",
       "      <th>Timely response?</th>\n",
       "      <th>Consumer disputed?</th>\n",
       "      <th>Complaint ID</th>\n",
       "    </tr>\n",
       "  </thead>\n",
       "  <tbody>\n",
       "    <tr>\n",
       "      <th>0</th>\n",
       "      <td>2024-01-24</td>\n",
       "      <td>Credit reporting or other personal consumer re...</td>\n",
       "      <td>Credit reporting</td>\n",
       "      <td>Incorrect information on your report</td>\n",
       "      <td>Account information incorrect</td>\n",
       "      <td>NaN</td>\n",
       "      <td>Company has responded to the consumer and the ...</td>\n",
       "      <td>TRANSUNION INTERMEDIATE HOLDINGS, INC.</td>\n",
       "      <td>FL</td>\n",
       "      <td>33578</td>\n",
       "      <td>NaN</td>\n",
       "      <td>Consent not provided</td>\n",
       "      <td>Web</td>\n",
       "      <td>2024-01-24</td>\n",
       "      <td>Closed with explanation</td>\n",
       "      <td>Yes</td>\n",
       "      <td>NaN</td>\n",
       "      <td>8205544</td>\n",
       "    </tr>\n",
       "    <tr>\n",
       "      <th>1</th>\n",
       "      <td>2024-02-26</td>\n",
       "      <td>Debt collection</td>\n",
       "      <td>Other debt</td>\n",
       "      <td>Threatened to contact someone or share informa...</td>\n",
       "      <td>Talked to a third-party about your debt</td>\n",
       "      <td>NaN</td>\n",
       "      <td>NaN</td>\n",
       "      <td>Marlette Funding, LLC</td>\n",
       "      <td>IL</td>\n",
       "      <td>60060</td>\n",
       "      <td>NaN</td>\n",
       "      <td>Consent not provided</td>\n",
       "      <td>Web</td>\n",
       "      <td>2024-02-26</td>\n",
       "      <td>Closed with explanation</td>\n",
       "      <td>Yes</td>\n",
       "      <td>NaN</td>\n",
       "      <td>8424268</td>\n",
       "    </tr>\n",
       "    <tr>\n",
       "      <th>2</th>\n",
       "      <td>2024-02-26</td>\n",
       "      <td>Credit reporting or other personal consumer re...</td>\n",
       "      <td>Credit reporting</td>\n",
       "      <td>Incorrect information on your report</td>\n",
       "      <td>Information belongs to someone else</td>\n",
       "      <td>NaN</td>\n",
       "      <td>Company believes it acted appropriately as aut...</td>\n",
       "      <td>CCS Financial Services, Inc.</td>\n",
       "      <td>NC</td>\n",
       "      <td>27536</td>\n",
       "      <td>NaN</td>\n",
       "      <td>Consent not provided</td>\n",
       "      <td>Web</td>\n",
       "      <td>2024-02-26</td>\n",
       "      <td>Closed with non-monetary relief</td>\n",
       "      <td>Yes</td>\n",
       "      <td>NaN</td>\n",
       "      <td>8423775</td>\n",
       "    </tr>\n",
       "    <tr>\n",
       "      <th>3</th>\n",
       "      <td>2024-02-20</td>\n",
       "      <td>Credit reporting or other personal consumer re...</td>\n",
       "      <td>Credit reporting</td>\n",
       "      <td>Improper use of your report</td>\n",
       "      <td>Reporting company used your report improperly</td>\n",
       "      <td>I am disappointed to have received a credit re...</td>\n",
       "      <td>NaN</td>\n",
       "      <td>LEXISNEXIS</td>\n",
       "      <td>CA</td>\n",
       "      <td>94124</td>\n",
       "      <td>NaN</td>\n",
       "      <td>Consent provided</td>\n",
       "      <td>Web</td>\n",
       "      <td>2024-02-20</td>\n",
       "      <td>Closed with explanation</td>\n",
       "      <td>Yes</td>\n",
       "      <td>NaN</td>\n",
       "      <td>8379830</td>\n",
       "    </tr>\n",
       "    <tr>\n",
       "      <th>4</th>\n",
       "      <td>2024-01-26</td>\n",
       "      <td>Credit reporting or other personal consumer re...</td>\n",
       "      <td>Credit reporting</td>\n",
       "      <td>Incorrect information on your report</td>\n",
       "      <td>Information belongs to someone else</td>\n",
       "      <td>The companies, along with the credit reporting...</td>\n",
       "      <td>NaN</td>\n",
       "      <td>EQUIFAX, INC.</td>\n",
       "      <td>NC</td>\n",
       "      <td>28804</td>\n",
       "      <td>NaN</td>\n",
       "      <td>Consent provided</td>\n",
       "      <td>Web</td>\n",
       "      <td>2024-01-26</td>\n",
       "      <td>Closed with non-monetary relief</td>\n",
       "      <td>Yes</td>\n",
       "      <td>NaN</td>\n",
       "      <td>8232435</td>\n",
       "    </tr>\n",
       "  </tbody>\n",
       "</table>\n",
       "</div>"
      ],
      "text/plain": [
       "  Date received                                            Product  \\\n",
       "0    2024-01-24  Credit reporting or other personal consumer re...   \n",
       "1    2024-02-26                                    Debt collection   \n",
       "2    2024-02-26  Credit reporting or other personal consumer re...   \n",
       "3    2024-02-20  Credit reporting or other personal consumer re...   \n",
       "4    2024-01-26  Credit reporting or other personal consumer re...   \n",
       "\n",
       "        Sub-product                                              Issue  \\\n",
       "0  Credit reporting               Incorrect information on your report   \n",
       "1        Other debt  Threatened to contact someone or share informa...   \n",
       "2  Credit reporting               Incorrect information on your report   \n",
       "3  Credit reporting                        Improper use of your report   \n",
       "4  Credit reporting               Incorrect information on your report   \n",
       "\n",
       "                                       Sub-issue  \\\n",
       "0                  Account information incorrect   \n",
       "1        Talked to a third-party about your debt   \n",
       "2            Information belongs to someone else   \n",
       "3  Reporting company used your report improperly   \n",
       "4            Information belongs to someone else   \n",
       "\n",
       "                        Consumer complaint narrative  \\\n",
       "0                                                NaN   \n",
       "1                                                NaN   \n",
       "2                                                NaN   \n",
       "3  I am disappointed to have received a credit re...   \n",
       "4  The companies, along with the credit reporting...   \n",
       "\n",
       "                             Company public response  \\\n",
       "0  Company has responded to the consumer and the ...   \n",
       "1                                                NaN   \n",
       "2  Company believes it acted appropriately as aut...   \n",
       "3                                                NaN   \n",
       "4                                                NaN   \n",
       "\n",
       "                                  Company State ZIP code Tags  \\\n",
       "0  TRANSUNION INTERMEDIATE HOLDINGS, INC.    FL    33578  NaN   \n",
       "1                   Marlette Funding, LLC    IL    60060  NaN   \n",
       "2            CCS Financial Services, Inc.    NC    27536  NaN   \n",
       "3                              LEXISNEXIS    CA    94124  NaN   \n",
       "4                           EQUIFAX, INC.    NC    28804  NaN   \n",
       "\n",
       "  Consumer consent provided? Submitted via Date sent to company  \\\n",
       "0       Consent not provided           Web           2024-01-24   \n",
       "1       Consent not provided           Web           2024-02-26   \n",
       "2       Consent not provided           Web           2024-02-26   \n",
       "3           Consent provided           Web           2024-02-20   \n",
       "4           Consent provided           Web           2024-01-26   \n",
       "\n",
       "      Company response to consumer Timely response? Consumer disputed?  \\\n",
       "0          Closed with explanation              Yes                NaN   \n",
       "1          Closed with explanation              Yes                NaN   \n",
       "2  Closed with non-monetary relief              Yes                NaN   \n",
       "3          Closed with explanation              Yes                NaN   \n",
       "4  Closed with non-monetary relief              Yes                NaN   \n",
       "\n",
       "   Complaint ID  \n",
       "0       8205544  \n",
       "1       8424268  \n",
       "2       8423775  \n",
       "3       8379830  \n",
       "4       8232435  "
      ]
     },
     "execution_count": 23,
     "metadata": {},
     "output_type": "execute_result"
    }
   ],
   "source": [
    "df.head()"
   ]
  },
  {
   "cell_type": "code",
   "execution_count": 22,
   "id": "c636d040",
   "metadata": {},
   "outputs": [
    {
     "name": "stdout",
     "output_type": "stream",
     "text": [
      "  Date received                                            Product  \\\n",
      "0    2024-01-24  Credit reporting or other personal consumer re...   \n",
      "1    2024-02-26                                    Debt collection   \n",
      "2    2024-02-26  Credit reporting or other personal consumer re...   \n",
      "3    2024-02-20  Credit reporting or other personal consumer re...   \n",
      "4    2024-01-26  Credit reporting or other personal consumer re...   \n",
      "\n",
      "        Sub-product                                              Issue  \\\n",
      "0  Credit reporting               Incorrect information on your report   \n",
      "1        Other debt  Threatened to contact someone or share informa...   \n",
      "2  Credit reporting               Incorrect information on your report   \n",
      "3  Credit reporting                        Improper use of your report   \n",
      "4  Credit reporting               Incorrect information on your report   \n",
      "\n",
      "                                       Sub-issue  \\\n",
      "0                  Account information incorrect   \n",
      "1        Talked to a third-party about your debt   \n",
      "2            Information belongs to someone else   \n",
      "3  Reporting company used your report improperly   \n",
      "4            Information belongs to someone else   \n",
      "\n",
      "                        Consumer complaint narrative  \\\n",
      "0                                                NaN   \n",
      "1                                                NaN   \n",
      "2                                                NaN   \n",
      "3  I am disappointed to have received a credit re...   \n",
      "4  The companies, along with the credit reporting...   \n",
      "\n",
      "                             Company public response  \\\n",
      "0  Company has responded to the consumer and the ...   \n",
      "1                                                NaN   \n",
      "2  Company believes it acted appropriately as aut...   \n",
      "3                                                NaN   \n",
      "4                                                NaN   \n",
      "\n",
      "                                  Company State ZIP code Tags  \\\n",
      "0  TRANSUNION INTERMEDIATE HOLDINGS, INC.    FL    33578  NaN   \n",
      "1                   Marlette Funding, LLC    IL    60060  NaN   \n",
      "2            CCS Financial Services, Inc.    NC    27536  NaN   \n",
      "3                              LEXISNEXIS    CA    94124  NaN   \n",
      "4                           EQUIFAX, INC.    NC    28804  NaN   \n",
      "\n",
      "  Consumer consent provided? Submitted via Date sent to company  \\\n",
      "0       Consent not provided           Web           2024-01-24   \n",
      "1       Consent not provided           Web           2024-02-26   \n",
      "2       Consent not provided           Web           2024-02-26   \n",
      "3           Consent provided           Web           2024-02-20   \n",
      "4           Consent provided           Web           2024-01-26   \n",
      "\n",
      "      Company response to consumer Timely response? Consumer disputed?  \\\n",
      "0          Closed with explanation              Yes                NaN   \n",
      "1          Closed with explanation              Yes                NaN   \n",
      "2  Closed with non-monetary relief              Yes                NaN   \n",
      "3          Closed with explanation              Yes                NaN   \n",
      "4  Closed with non-monetary relief              Yes                NaN   \n",
      "\n",
      "   Complaint ID  \n",
      "0       8205544  \n",
      "1       8424268  \n",
      "2       8423775  \n",
      "3       8379830  \n",
      "4       8232435  \n"
     ]
    }
   ],
   "source": [
    "print(df.head())"
   ]
  },
  {
   "cell_type": "code",
   "execution_count": 24,
   "id": "0b48850c",
   "metadata": {},
   "outputs": [
    {
     "name": "stdout",
     "output_type": "stream",
     "text": [
      "\n",
      "Top Complaint Categories:\n",
      "Credit reporting, credit repair services, or other personal consumer reports    2163878\n",
      "Credit reporting or other personal consumer reports                              959581\n",
      "Debt collection                                                                  567007\n",
      "Mortgage                                                                         397811\n",
      "Checking or savings account                                                      212459\n",
      "Credit card or prepaid card                                                      206373\n",
      "Credit reporting                                                                 140429\n",
      "Credit card                                                                      132976\n",
      "Student loan                                                                      88116\n",
      "Bank account or service                                                           86205\n",
      "Name: Product, dtype: int64\n"
     ]
    }
   ],
   "source": [
    "# Top Complaint Categories\n",
    "top_complaints = df['Product'].value_counts().head(10)\n",
    "print(\"\\nTop Complaint Categories:\")\n",
    "print(top_complaints)"
   ]
  },
  {
   "cell_type": "code",
   "execution_count": 25,
   "id": "ff7be9cc",
   "metadata": {},
   "outputs": [
    {
     "name": "stdout",
     "output_type": "stream",
     "text": [
      "\n",
      "Company Response Analysis:\n",
      "Closed with explanation            3445821\n",
      "Closed with non-monetary relief    1297585\n",
      "In progress                         218783\n",
      "Closed with monetary relief         153316\n",
      "Closed without relief                17868\n",
      "Closed                               17611\n",
      "Untimely response                    11480\n",
      "Closed with relief                    5304\n",
      "Name: Company response to consumer, dtype: int64\n"
     ]
    }
   ],
   "source": [
    "# Company Response Analysis\n",
    "company_response_counts = df['Company response to consumer'].value_counts()\n",
    "print(\"\\nCompany Response Analysis:\")\n",
    "print(company_response_counts)\n"
   ]
  },
  {
   "cell_type": "code",
   "execution_count": 26,
   "id": "93f592f6",
   "metadata": {},
   "outputs": [
    {
     "name": "stdout",
     "output_type": "stream",
     "text": [
      "\n",
      "Top States with Complaints:\n",
      "FL    619361\n",
      "CA    589948\n",
      "TX    550630\n",
      "GA    354237\n",
      "NY    331769\n",
      "PA    244915\n",
      "IL    215559\n",
      "NJ    174698\n",
      "NC    168306\n",
      "MD    135396\n",
      "Name: State, dtype: int64\n"
     ]
    }
   ],
   "source": [
    "# Geographical Analysis\n",
    "state_complaints = df['State'].value_counts().head(10)\n",
    "print(\"\\nTop States with Complaints:\")\n",
    "print(state_complaints)"
   ]
  },
  {
   "cell_type": "code",
   "execution_count": 27,
   "id": "c242a2ff",
   "metadata": {},
   "outputs": [
    {
     "name": "stdout",
     "output_type": "stream",
     "text": [
      "\n",
      "Yearly Complaints:\n",
      "2011       2536\n",
      "2012      72372\n",
      "2013     108215\n",
      "2014     153008\n",
      "2015     168437\n",
      "2016     191414\n",
      "2017     242854\n",
      "2018     257220\n",
      "2019     277298\n",
      "2020     444294\n",
      "2021     496004\n",
      "2022     800359\n",
      "2023    1292154\n",
      "2024     661617\n",
      "Name: Year, dtype: int64\n"
     ]
    }
   ],
   "source": [
    "# Temporal Analysis\n",
    "df['Date received'] = pd.to_datetime(df['Date received'])\n",
    "df['Year'] = df['Date received'].dt.year\n",
    "yearly_complaints = df['Year'].value_counts().sort_index()\n",
    "print(\"\\nYearly Complaints:\")\n",
    "print(yearly_complaints)\n"
   ]
  },
  {
   "cell_type": "code",
   "execution_count": 28,
   "id": "87fa69df",
   "metadata": {},
   "outputs": [
    {
     "data": {
      "image/png": "[encoded data removed]",
      "text/plain": [
       "<Figure size 1000x600 with 1 Axes>"
      ]
     },
     "metadata": {},
     "output_type": "display_data"
    }
   ],
   "source": [
    "# Plot Temporal Analysis\n",
    "plt.figure(figsize=(10, 6))\n",
    "yearly_complaints.plot(kind='bar')\n",
    "plt.title('Yearly Complaints')\n",
    "plt.xlabel('Year')\n",
    "plt.ylabel('Number of Complaints')\n",
    "plt.grid(axis='y')\n",
    "plt.show()"
   ]
  },
  {
   "cell_type": "code",
   "execution_count": null,
   "id": "bedcb100",
   "metadata": {},
   "outputs": [],
   "source": []
  }
 ],
 "metadata": {
  "kernelspec": {
   "display_name": "Python 3 (ipykernel)",
   "language": "python",
   "name": "python3"
  },
  "language_info": {
   "codemirror_mode": {
    "name": "ipython",
    "version": 3
   },
   "file_extension": ".py",
   "mimetype": "text/x-python",
   "name": "python",
   "nbconvert_exporter": "python",
   "pygments_lexer": "ipython3",
   "version": "3.11.4"
  }
 },
 "nbformat": 4,
 "nbformat_minor": 5
}
